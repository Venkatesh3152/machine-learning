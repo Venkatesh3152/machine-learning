{
  "nbformat": 4,
  "nbformat_minor": 0,
  "metadata": {
    "colab": {
      "private_outputs": true,
      "provenance": []
    },
    "kernelspec": {
      "name": "python3",
      "display_name": "Python 3"
    },
    "language_info": {
      "name": "python"
    }
  },
  "cells": [
    {
      "cell_type": "code",
      "execution_count": null,
      "metadata": {
        "id": "Mu_fNmRnSgIP"
      },
      "outputs": [],
      "source": [
        "import pandas as pd"
      ]
    },
    {
      "cell_type": "code",
      "source": [
        "dataset=pd.read_csv('/content/Project 1 - Weather Dataset.csv')"
      ],
      "metadata": {
        "id": "FhAUuJvXSuez"
      },
      "execution_count": null,
      "outputs": []
    },
    {
      "cell_type": "code",
      "source": [
        "dataset['Weather'].value_counts()"
      ],
      "metadata": {
        "id": "fVTzKXQ3S6Ty"
      },
      "execution_count": null,
      "outputs": []
    },
    {
      "cell_type": "code",
      "source": [
        "def map_weather(cond):\n",
        "    cond = cond.lower()\n",
        "    if \"clear\" in cond or \"cloudy\" in cond or \"fog\" in cond or \"haze\" in cond:\n",
        "        return \"Clear\"\n",
        "    elif \"rain\" in cond or \"drizzle\" in cond or \"thunder\" in cond:\n",
        "        return \"Rain\"\n",
        "    elif \"snow\" in cond or \"pellets\" in cond or \"flurries\" in cond:\n",
        "        return \"Snow\"\n",
        "    else:\n",
        "        return \"Other\""
      ],
      "metadata": {
        "id": "YiGpkgdhVEMq"
      },
      "execution_count": null,
      "outputs": []
    },
    {
      "cell_type": "code",
      "source": [
        "dataset[\"Weather\"] = dataset[\"Weather\"].apply(map_weather)"
      ],
      "metadata": {
        "id": "hmUk-HTUVGuC"
      },
      "execution_count": null,
      "outputs": []
    },
    {
      "cell_type": "code",
      "source": [
        "dataset[\"Weather\"].value_counts()"
      ],
      "metadata": {
        "id": "_W0HJN6PVdvL"
      },
      "execution_count": null,
      "outputs": []
    },
    {
      "cell_type": "code",
      "source": [
        "dataset"
      ],
      "metadata": {
        "id": "qTbfux6FW0Qz"
      },
      "execution_count": null,
      "outputs": []
    },
    {
      "cell_type": "code",
      "source": [
        "x=dataset[['Temp_C','Dew Point Temp_C','Rel Hum_%','Wind Speed_km/h','Visibility_km','Press_kPa']]\n",
        "y=dataset['Weather']"
      ],
      "metadata": {
        "id": "xoc7LeSuV696"
      },
      "execution_count": null,
      "outputs": []
    },
    {
      "cell_type": "code",
      "source": [
        "from sklearn.model_selection import train_test_split"
      ],
      "metadata": {
        "id": "JcCWSLEOXec8"
      },
      "execution_count": null,
      "outputs": []
    },
    {
      "cell_type": "code",
      "source": [
        "x_train,x_test, y_train, y_test = train_test_split(x,y, test_size=0.2, random_state=42)"
      ],
      "metadata": {
        "id": "g4bCzHFuX0Ej"
      },
      "execution_count": null,
      "outputs": []
    },
    {
      "cell_type": "code",
      "source": [
        "from sklearn.tree import DecisionTreeClassifier"
      ],
      "metadata": {
        "id": "P0JDgMCdY10E"
      },
      "execution_count": null,
      "outputs": []
    },
    {
      "cell_type": "code",
      "source": [
        "model = DecisionTreeClassifier(random_state=42, max_depth=5)"
      ],
      "metadata": {
        "id": "3PiZCjN-Y_CL"
      },
      "execution_count": null,
      "outputs": []
    },
    {
      "cell_type": "code",
      "source": [
        "model.fit(x_train, y_train)"
      ],
      "metadata": {
        "id": "X76xE3t5ZMz7"
      },
      "execution_count": null,
      "outputs": []
    },
    {
      "cell_type": "code",
      "source": [
        "y_pred = model.predict(x_test)"
      ],
      "metadata": {
        "id": "EN9BtGamZWHb"
      },
      "execution_count": null,
      "outputs": []
    },
    {
      "cell_type": "code",
      "source": [
        "from sklearn.metrics import classification_report , ConfusionMatrixDisplay , confusion_matrix"
      ],
      "metadata": {
        "id": "f3rpwiRDZui8"
      },
      "execution_count": null,
      "outputs": []
    },
    {
      "cell_type": "code",
      "source": [
        "print(classification_report(y_test, y_pred))"
      ],
      "metadata": {
        "id": "1KcGVaYZZfxr"
      },
      "execution_count": null,
      "outputs": []
    },
    {
      "cell_type": "code",
      "source": [
        "cm = confusion_matrix(y_test, y_pred, labels=model.classes_)"
      ],
      "metadata": {
        "id": "ct9hxBCgbQPt"
      },
      "execution_count": null,
      "outputs": []
    },
    {
      "cell_type": "code",
      "source": [
        "import matplotlib.pyplot as plt\n",
        "fig, ax = plt.subplots(figsize=(6, 6))\n",
        "ConfusionMatrixDisplay(confusion_matrix=cm, display_labels=model.classes_).plot(ax=ax, cmap=\"Blues\", values_format=\"d\")\n",
        "plt.title(\"Confusion Matrix - Weather Classification\")\n",
        "plt.show()"
      ],
      "metadata": {
        "id": "5d39BakvZwSj"
      },
      "execution_count": null,
      "outputs": []
    },
    {
      "cell_type": "code",
      "source": [
        "model.score(x_test,y_test)"
      ],
      "metadata": {
        "id": "sZr7KQ9WaY-T"
      },
      "execution_count": null,
      "outputs": []
    },
    {
      "cell_type": "markdown",
      "source": [
        "Clear\n",
        "\n",
        "Precision = 0.92 → When the model predicts “Clear”, it’s right 92% of the time.\n",
        "\n",
        "Recall = 0.97 → Of all the actual clear days, it correctly finds 97%.\n",
        "\n",
        "F1 = 0.94 → Overall very strong performance.\n",
        "\n",
        "Rain\n",
        "\n",
        "Precision = 0.45 → Less than half of the days predicted as “Rain” are actually rainy.\n",
        "\n",
        "Recall = 0.17 → Out of all real rainy days, the model only catches 17%. It misses most rain.\n",
        "\n",
        "F1 = 0.25 → Weak performance.\n",
        "\n",
        "Snow\n",
        "\n",
        "Precision = 0.66 → When it predicts snow, 66% of the time it’s correct.\n",
        "\n",
        "Recall = 0.59 → It detects 59% of actual snowy days.\n",
        "\n",
        "F1 = 0.62 → Decent, but not perfect."
      ],
      "metadata": {
        "id": "krek5fumh27n"
      }
    }
  ]
}